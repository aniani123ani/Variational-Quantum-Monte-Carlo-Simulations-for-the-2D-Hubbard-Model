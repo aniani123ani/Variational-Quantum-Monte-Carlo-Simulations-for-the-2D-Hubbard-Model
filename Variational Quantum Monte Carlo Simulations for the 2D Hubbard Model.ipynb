{
 "cells": [
  {
   "cell_type": "code",
   "execution_count": null,
   "id": "da909ea6-5c2f-4b7d-8a08-d7dd4a9f7c23",
   "metadata": {},
   "outputs": [],
   "source": []
  }
 ],
 "metadata": {
  "kernelspec": {
   "display_name": "",
   "name": ""
  },
  "language_info": {
   "name": ""
  }
 },
 "nbformat": 4,
 "nbformat_minor": 5
}
